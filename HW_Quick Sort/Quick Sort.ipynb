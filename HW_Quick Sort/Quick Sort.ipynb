{
 "cells": [
  {
   "cell_type": "markdown",
   "metadata": {},
   "source": [
    "## 05113009 哲學四 吳家瑩"
   ]
  },
  {
   "cell_type": "markdown",
   "metadata": {},
   "source": [
    "Quick Sort 快速排序法，先決定取一個固定的位子為pivot，再依序將其餘的數值與pivot比大小，將比pivot小的都丟掉走邊，比pivot大的都丟到右邊。\n",
    "再來將比pivot小的那些數值再比一次大小，並一樣取第一個為pivot，比pivot大的也用同樣的方式處理，直到不能再處理，亦即所有數值都依照大小都排好了。"
   ]
  },
  {
   "cell_type": "code",
   "execution_count": 1,
   "metadata": {},
   "outputs": [],
   "source": [
    "def quickSort(alist):\n",
    "    quickSortHelper(alist , 0 , len(alist)-1)"
   ]
  },
  {
   "cell_type": "markdown",
   "metadata": {},
   "source": [
    "從quickSort裡面呼叫quickSortHelper\n"
   ]
  },
  {
   "cell_type": "code",
   "execution_count": 2,
   "metadata": {},
   "outputs": [],
   "source": [
    "def quickSortHelper(alist,first,last):\n",
    "    if first < last:\n",
    "        splitpoint = partition(alist , first , last)\n",
    "        quickSortHelper(alist , first , splitpoint-1) \n",
    "        quickSortHelper(alist , splitpoint+1 , last)"
   ]
  },
  {
   "cell_type": "markdown",
   "metadata": {},
   "source": [
    "首先，呼叫partition進行排列，將大於pivot值的分一堆，小於的分一堆，再將兩堆分別進行排序，所以我們需要設一個條件來讓它不再執行，當分堆進行分組裡的只有一個值的時候就不再進行排序，last = len(alist)-1 所以last為最後一個值的index，而當最後一個值的index非大於0，那就代表只剩下一個數值，因此不需要再進行排序。"
   ]
  },
  {
   "cell_type": "code",
   "execution_count": 5,
   "metadata": {},
   "outputs": [],
   "source": [
    "def partition(alist , first , last):\n",
    "    pivotvalue = alist[first]\n",
    "    leftmark = first+1\n",
    "    rightmark = last\n",
    "    done = False\n",
    "    \n",
    "    while not done:\n",
    "        while leftmark <= rightmark and alist[leftmark] <= pivotvalue:\n",
    "            leftmark = leftmark + 1\n",
    "        \n",
    "        while alist[rightmark] >= pivotvalue and rightmark >= leftmark:\n",
    "            rightmark = rightmark -1\n",
    "            \n",
    "        if rightmark < leftmark:\n",
    "            done = True\n",
    "        else:\n",
    "            temp = alist[leftmark]\n",
    "            alist[leftmark] = alist[rightmark]\n",
    "            alist[rightmark] = temp\n",
    "    \n",
    "    temp = alist[first]\n",
    "    alist[first] = alist[rightmark]\n",
    "    alist[rightmark] = temp\n",
    "    \n",
    "    return rightmark\n"
   ]
  },
  {
   "cell_type": "markdown",
   "metadata": {},
   "source": [
    "先將數列的第一個數設為pivot，leftmark設為1，rightmark設為最後一個index，即 len(alist)-1，接著從leftmark這個位子的值開始與pivot比較大小，若是較小則leftmark+1，就是比較下一個位子的值，直到找到一個比pivot大的值或leftmark大於rightmark，則停止迴圈。<br/> 接著進入第二層的第二個while迴圈，從最後面開始比較大小，若是rightmark這個位子的值大於pivot，則rightmark-1，直到找到比pivot小的或是rightmark小於leftmark則停止迴圈。\n",
    "\n",
    "若是執行到rightmark小於leftmark代表我們已經分好堆了，則跳出迴圈將pivot與最後rightmark的值互換。<br/>\n",
    "若是rightmark沒有小於leftmark，則我們將其值調換，因為在這裏指到的leftmark會是大於pivot的，而rightmark會小於pivot，所以將其對調以便分堆。"
   ]
  },
  {
   "cell_type": "code",
   "execution_count": 4,
   "metadata": {},
   "outputs": [
    {
     "name": "stdout",
     "output_type": "stream",
     "text": [
      "[17, 20, 26, 31, 44, 54, 55, 77, 93]\n"
     ]
    }
   ],
   "source": [
    "alist = [54,26,93,17,77,31,44,55,20]\n",
    "quickSort(alist)\n",
    "print(alist)"
   ]
  },
  {
   "cell_type": "markdown",
   "metadata": {},
   "source": [
    "['54',26,93,17,77,31,44,55,20] --> alist[leftmark]=93, alist[rightmarl]=20 --> 交換位置變成['54',26,**20**,17,77,31,44,55,**93**] --> alist[leftmark]=77, alist[rightmark]=44 -->交換位置變成['54',26,20,17,**44**,31,**77**,55,93] --> alist[leftmark]=77, alist[rightmark]=31 -->  rightmark < leftmark --> pivot與alist[rightmark]交換值 --> [**31**,26,20,17,44,**'54'** ,77,55,93] <br/>  \n",
    "-->第一次排序完成，接著再將小於54的數列依照此法排序，大於54的數列也是如此，最後就會得出依照大小排序好的  [17, 20, 26, 31, 44, 54, 55, 77, 93]"
   ]
  },
  {
   "cell_type": "markdown",
   "metadata": {},
   "source": [
    "Quick Sort的時間複雜度：\n",
    "\n",
    "Best Case：Ο(n log n)\n",
    "\n",
    "Worst Case：Ο(n^2)　\n",
    "\n",
    "Average Case：Ο(n log n)"
   ]
  },
  {
   "cell_type": "markdown",
   "metadata": {},
   "source": [
    "<br/>"
   ]
  },
  {
   "cell_type": "markdown",
   "metadata": {},
   "source": [
    "### 另解 "
   ]
  },
  {
   "cell_type": "code",
   "execution_count": 6,
   "metadata": {},
   "outputs": [],
   "source": [
    "def quick_sort(list):\n",
    "    smaller = []\n",
    "    bigger = []\n",
    "    keylist = []\n",
    "    \n",
    "    if len(list) <= 1:\n",
    "        return list\n",
    "    else:\n",
    "        key = list[0] \n",
    "        for i in list:\n",
    "            if i < key: \n",
    "                smaller.append(i)\n",
    "            elif i > key: \n",
    "                bigger.append(i)\n",
    "            else:\n",
    "                keylist.append(i)\n",
    "                \n",
    "    smaller = quick_sort(smaller)\n",
    "    bigger = quick_sort(bigger)\n",
    "    \n",
    "    return smaller + keylist + bigger"
   ]
  },
  {
   "cell_type": "markdown",
   "metadata": {},
   "source": [
    "此法與上一個發法觀念是相同的，最大的區別在於此法是用另外的存取空間，將數值分堆排序後再合併，而非上一個方法直接在原來的數列中進行排序。"
   ]
  },
  {
   "cell_type": "code",
   "execution_count": 7,
   "metadata": {},
   "outputs": [
    {
     "data": {
      "text/plain": [
       "[17, 20, 26, 31, 44, 54, 55, 77, 93]"
      ]
     },
     "execution_count": 7,
     "metadata": {},
     "output_type": "execute_result"
    }
   ],
   "source": [
    "list = [54,26,93,17,77,31,44,55,20]\n",
    "quick_sort(list)"
   ]
  },
  {
   "cell_type": "markdown",
   "metadata": {},
   "source": [
    "## 過程\n",
    "['54',26,93,17,77,31,44,55,20] --> smaller=[26,17,31,44,20] , bigger=[93,77,55] , keylist=[54] \n",
    "\n",
    ">['26',17,31,44,20] --> smaller=[17,20] , bigger=[31,44] , keylist=[26] --> return smaller + keylist + bigger --> [17,20,26,31,44] \n",
    "\n",
    ">['93',77,55] --> smaller=[77,55] , bigger=[] , keylist=[93] <br/>\n",
    ">>['77',55] --> smaller=[55] , bigger=[] , keylist=[77] --> [55,77]\n",
    ">>>[55,77,93]\n",
    "\n",
    "return smaller + keylist + bigger --> [17, 20, 26, 31, 44, 54, 55, 77, 93]\n",
    "\n",
    "\n"
   ]
  }
 ],
 "metadata": {
  "kernelspec": {
   "display_name": "Python 3",
   "language": "python",
   "name": "python3"
  },
  "language_info": {
   "codemirror_mode": {
    "name": "ipython",
    "version": 3
   },
   "file_extension": ".py",
   "mimetype": "text/x-python",
   "name": "python",
   "nbconvert_exporter": "python",
   "pygments_lexer": "ipython3",
   "version": "3.7.3"
  }
 },
 "nbformat": 4,
 "nbformat_minor": 2
}
