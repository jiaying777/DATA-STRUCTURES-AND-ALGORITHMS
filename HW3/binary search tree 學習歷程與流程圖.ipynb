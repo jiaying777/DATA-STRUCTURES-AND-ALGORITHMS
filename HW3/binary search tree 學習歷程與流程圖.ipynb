{
 "cells": [
  {
   "cell_type": "markdown",
   "metadata": {},
   "source": [
    "# Binary Search Tree"
   ]
  },
  {
   "cell_type": "markdown",
   "metadata": {},
   "source": [
    "05113009 哲學四 吳家瑩\n",
    "\n",
    "[網頁版](https://nbviewer.jupyter.org/github/jiaying777/DATA-STRUCTURES-AND-ALGORITHMS/blob/master/HW3/binary%20search%20tree%20學習歷程與流程圖.ipynb#學習歷程)\n",
    "\n",
    "BST為二元樹，亦即每一個節點底下都只能有兩個子節點，BST與Binary Tree最大的差別在於有大小順序，Binary Tree每一個節點底下最多只能有兩個子節點，這點與BST一樣，不過Binary Tree的任意子節點可以大於、等於或小於父節點，但BST不行，BST需要透過比較大小進行搜尋排序等等動作，也正是因為有這項特徵，所以方便我們尋找資料，不需要走訪過每一個節點。\n",
    "\n",
    "Binary Search Tree:\n",
    "* 每個節點底下最多只會有兩個子節點\n",
    "* 需比較大小，非數值型資料，則可以新增編號等等，以便排序\n",
    "* 有一定的排序規則：\n",
    "        - 比節點小的放左邊\n",
    "        - 比節點大的放右邊\n",
    "        - 與節點相等的可放左或右邊，不過要統一（自行定義）\n",
    "        \n",
    "     [參考資料1](http://alrightchiu.github.io/SecondRound/binary-search-tree-introjian-jie.html#bst)\n",
    "     [參考資料2](http://alrightchiu.github.io/SecondRound/binary-tree-introjian-jie.html)"
   ]
  },
  {
   "cell_type": "markdown",
   "metadata": {},
   "source": [
    "主要功能：新增、刪除、查詢、修改<br>\n",
    "額外功能：前序、最大、最小、深度、節點個數、所有節點的值(list)\n",
    "\n",
    "* [程式碼](#程式碼)\n",
    "* [學習歷程](#學習歷程)：\n",
    "    * [insert](#insert)\n",
    "    * [delete](#delete)\n",
    "    * [search](#search)\n",
    "    * [modify](#modify) \n",
    "    * [其他功能](#其他功能)\n",
    "* [流程圖](#流程圖)\n",
    "    * [insert流程圖](#insert流程圖)\n",
    "    * [delete流程圖](#delete流程圖)\n",
    "    * [search流程圖](#search流程圖)\n",
    "    * [modify流程圖](#modify流程圖)\n",
    "* [參考資料](#參考資料)"
   ]
  },
  {
   "cell_type": "markdown",
   "metadata": {},
   "source": [
    "## 程式碼"
   ]
  },
  {
   "cell_type": "code",
   "execution_count": 464,
   "metadata": {},
   "outputs": [],
   "source": [
    "# Definition for a binary tree node.\n",
    "class TreeNode(object):\n",
    "    def __init__(self,x):\n",
    "        self.val = x\n",
    "        self.left = None\n",
    "        self.right = None\n",
    "\n",
    "        \"\"\"\n",
    "        :type val: int\n",
    "        :type left: TreeNode or None\n",
    "        :type right: TreeNode or None\n",
    "        \"\"\"\n",
    "        \n",
    "class Solution(object):\n",
    "    def insert(self, root, val):\n",
    "        if root == None:\n",
    "            root = TreeNode(val)\n",
    "        else:\n",
    "            if val <= root.val:\n",
    "                if root.left == None:\n",
    "                    root.left = TreeNode(val)\n",
    "                    temp = root.left\n",
    "                else:\n",
    "                    temp = self.insert(root.left,val)               \n",
    "                \n",
    "            if val > root.val:\n",
    "                if root.right == None:\n",
    "                    root.right = TreeNode(val)\n",
    "                    temp = root.right\n",
    "                else:\n",
    "                    temp = self.insert(root.right,val)\n",
    "        return temp\n",
    "                \n",
    "        \"\"\"\n",
    "        :type root: TreeNode\n",
    "        :type val: int\n",
    "        :rtype: TreeNode(inserted node)\n",
    "        \"\"\"\n",
    "        \n",
    "    def delete(self,root,target):\n",
    "        global temp2\n",
    "        temp2 = []\n",
    "        self.makelist(root,temp2)\n",
    "\n",
    "        if root == None:\n",
    "            return\n",
    "        else:\n",
    "            if root.val == target:\n",
    "                if root.left == None and root.right == None:\n",
    "                    root=None\n",
    "                    return\n",
    "                if root.left:\n",
    "                    nroot = self.maxnode(root.left)\n",
    "                else:\n",
    "                    if root.right:\n",
    "                        nroot = self.minnode(root.right)\n",
    "                temp2.remove(nroot.val)\n",
    "                root.val = nroot.val\n",
    "\n",
    "\n",
    "            root.left = None\n",
    "            root.right = None\n",
    "            for i in temp2[1:]:\n",
    "                if i != target:\n",
    "                    self.insert(root,i)\n",
    "                    \n",
    "        \"\"\" \n",
    "        :type root: TreeNode\n",
    "        :type target: int\n",
    "        :rtype: TreeNode(the root of new completed binary search tree) (cannot search())\n",
    "        \"\"\"\n",
    "        \n",
    "    def search(self, root, target):\n",
    "        if root == None:\n",
    "            return None\n",
    "        if root.val == target:\n",
    "            return root\n",
    "        else:\n",
    "            if target > root.val:\n",
    "                temp = self.search(root.right,target)\n",
    "            else:\n",
    "                temp = self.search(root.left,target)\n",
    "                \n",
    "        return temp\n",
    "                \n",
    "        \"\"\"\n",
    "        :type root: TreeNode\n",
    "        :type target: int\n",
    "        :rtype: TreeNode(searched node)\n",
    "        \"\"\"\n",
    "        \n",
    "    def modify(self, root, target, new_val):\n",
    "        a = self.height(root)\n",
    "        if root == None:\n",
    "            return\n",
    "        else:\n",
    "            global temp4\n",
    "            global temp3\n",
    "            temp3 = []\n",
    "            temp4 = []\n",
    "            self.makelist(root,temp3)\n",
    "            if root.val == target:\n",
    "                root.val = new_val\n",
    "                temp3[0] = new_val\n",
    "                if root.left==None and root.right == None:\n",
    "                    return\n",
    "            root.left,root.right = None,None\n",
    "            temp4.append(root.val)\n",
    "            for i in temp3[1:]:\n",
    "                if i == target:\n",
    "                    i = new_val\n",
    "                temp4.append(i)\n",
    "                self.insert(root,i)\n",
    "                \n",
    "            if self.height(root) > a:  #reconstruction tree\n",
    "                b = sorted(temp4)\n",
    "                nroot = b[len(b)//2-1]\n",
    "                root.val = nroot\n",
    "                root.left,root.right = None,None\n",
    "                temp4.remove(nroot)\n",
    "                for i in temp4:\n",
    "                    if i == target:\n",
    "                        i = new_val\n",
    "                    self.insert(root,i) \n",
    "        return root\n",
    "        \n",
    "        \"\"\"\n",
    "        :type root: TreeNode\n",
    "        :type target: int\n",
    "        :type new_val: int\n",
    "        :rtype:TreeNode(the root of new completed binary search tree) (cannot search())\n",
    "        \"\"\"\n",
    "        \n",
    "    def preorder(self,root):\n",
    "        print(root.val)\n",
    "        if root.left:\n",
    "            self.preorder(root.left)\n",
    "        if root.right:\n",
    "            self.preorder(root.right)\n",
    "                \n",
    "    def makelist(self,root,temp): #創一個所有node.val的list\n",
    "        temp.append(root.val)\n",
    "        if root.left:\n",
    "            self.makelist(root.left,temp)\n",
    "        if root.right:\n",
    "            self.makelist(root.right,temp)\n",
    "            \n",
    "    def maxnode(self,root): #尋找root下的最大值  \n",
    "        if root == None:\n",
    "            return\n",
    "        while root.right != None:\n",
    "            root = root.right\n",
    "        return root\n",
    "        \n",
    "    def minnode(self,root): #尋找root下的最小值\n",
    "        if root == None:\n",
    "            return\n",
    "        while root.left != None:\n",
    "            root = root.left\n",
    "        return root\n",
    "            \n",
    "    def height(self,root):  #樹的深度\n",
    "        if root is None: \n",
    "            return 0 \n",
    "        else :\n",
    "            leftheight = self.height(root.left)\n",
    "            rightheight = self.height(root.right)\n",
    "            \n",
    "            if leftheight>rightheight:\n",
    "                return leftheight + 1\n",
    "            else:\n",
    "                return rightheight +1\n",
    "        \n",
    "    def count(self,root): #有幾個node\n",
    "        count = 1\n",
    "        a = 0\n",
    "        b = 0\n",
    "        if root.left:\n",
    "            a = self.count(root.left)\n",
    "        if root.right:\n",
    "            b = self.count(root.right)\n",
    "        return count+a+b\n",
    "            \n",
    "##############################################################################\n",
    "#學習過程之無用程式    \n",
    "    \n",
    "                                \n",
    "    def replace(self,root,target, new_val):\n",
    "        if root == None:\n",
    "            return\n",
    "        else:\n",
    "            if root.val == target:\n",
    "                root.val = new_val\n",
    "                if root.left:\n",
    "                    if root.left.val == target:\n",
    "                        self.replace(root.left,target,new_val)\n",
    "            if root.val != target:\n",
    "                if target > root.val:\n",
    "                    self.replace(root.right,target,new_val)\n",
    "                else:\n",
    "                    self.replace(root.left,target,new_val)\n",
    "                    \n",
    "    \n",
    "\n",
    "    \n",
    "    \n",
    "    def aa(self,root,list):\n",
    "        for i in list:\n",
    "            self.insert(root,i)\n",
    "    \n",
    "        \n",
    "        \n"
   ]
  },
  {
   "cell_type": "markdown",
   "metadata": {},
   "source": [
    " "
   ]
  },
  {
   "cell_type": "markdown",
   "metadata": {},
   "source": [
    " "
   ]
  },
  {
   "cell_type": "markdown",
   "metadata": {},
   "source": [
    " "
   ]
  },
  {
   "cell_type": "markdown",
   "metadata": {},
   "source": [
    "# 學習歷程"
   ]
  },
  {
   "cell_type": "markdown",
   "metadata": {},
   "source": [
    "## insert\n",
    "參考資料：無"
   ]
  },
  {
   "cell_type": "markdown",
   "metadata": {},
   "source": [
    "先建立一棵樹"
   ]
  },
  {
   "cell_type": "code",
   "execution_count": 290,
   "metadata": {},
   "outputs": [],
   "source": [
    "root1 = TreeNode(5)"
   ]
  },
  {
   "cell_type": "code",
   "execution_count": 291,
   "metadata": {},
   "outputs": [],
   "source": [
    "Solution().insert(root1,3)\n",
    "Solution().insert(root1,8)\n",
    "Solution().insert(root1,3)\n",
    "Solution().insert(root1,7)\n",
    "Solution().insert(root1,10)\n",
    "Solution().insert(root1,-5)\n",
    "Solution().insert(root1,6)"
   ]
  },
  {
   "cell_type": "code",
   "execution_count": 294,
   "metadata": {
    "scrolled": false
   },
   "outputs": [
    {
     "name": "stdout",
     "output_type": "stream",
     "text": [
      "5\n",
      "3\n",
      "3\n",
      "-5\n",
      "8\n",
      "7\n",
      "6\n",
      "10\n"
     ]
    }
   ],
   "source": [
    "Solution().preorder(root1)"
   ]
  },
  {
   "cell_type": "code",
   "execution_count": 303,
   "metadata": {},
   "outputs": [],
   "source": [
    "class Solution(object):\n",
    "    def insert(self, root, val):\n",
    "        if root == None:\n",
    "            root = TreeNode(val)\n",
    "        else:\n",
    "            if val <= root.val:\n",
    "                if root.left == None:\n",
    "                    root.left = TreeNode(val)\n",
    "                    \n",
    "                else:\n",
    "                    self.insert(root.left,val)               \n",
    "                \n",
    "            if val > root.val:\n",
    "                if root.right == None:\n",
    "                    root.right = TreeNode(val)\n",
    "                    \n",
    "                else:\n",
    "                    self.insert(root.right,val)"
   ]
  },
  {
   "cell_type": "code",
   "execution_count": 305,
   "metadata": {
    "scrolled": true
   },
   "outputs": [
    {
     "data": {
      "text/plain": [
       "False"
      ]
     },
     "execution_count": 305,
     "metadata": {},
     "output_type": "execute_result"
    }
   ],
   "source": [
    "Solution().insert(root1,9)==root1.right.right.left"
   ]
  },
  {
   "cell_type": "markdown",
   "metadata": {},
   "source": [
    " "
   ]
  },
  {
   "cell_type": "markdown",
   "metadata": {},
   "source": [
    "錯了！！！ 怎麼回事？來檢查一下"
   ]
  },
  {
   "cell_type": "markdown",
   "metadata": {},
   "source": [
    " "
   ]
  },
  {
   "cell_type": "code",
   "execution_count": 308,
   "metadata": {},
   "outputs": [
    {
     "name": "stdout",
     "output_type": "stream",
     "text": [
      "None\n"
     ]
    }
   ],
   "source": [
    "print(Solution().insert(root1,9))"
   ]
  },
  {
   "cell_type": "code",
   "execution_count": 309,
   "metadata": {},
   "outputs": [
    {
     "data": {
      "text/plain": [
       "<__main__.TreeNode at 0x1059d2be0>"
      ]
     },
     "execution_count": 309,
     "metadata": {},
     "output_type": "execute_result"
    }
   ],
   "source": [
    "root1.right.right.left"
   ]
  },
  {
   "cell_type": "code",
   "execution_count": 310,
   "metadata": {},
   "outputs": [
    {
     "data": {
      "text/plain": [
       "9"
      ]
     },
     "execution_count": 310,
     "metadata": {},
     "output_type": "execute_result"
    }
   ],
   "source": [
    "root1.right.right.left.val"
   ]
  },
  {
   "cell_type": "markdown",
   "metadata": {},
   "source": [
    "回傳的值是空的，難怪錯了，檢查一下程式碼，發現我沒有回傳任何東西，所以修改一下程式碼。<br>\n",
    "這個部分搞了很久，看了程式碼並不覺得有問題，也嘗試叫出node.val，也沒有錯，最後才發現要回傳。"
   ]
  },
  {
   "cell_type": "markdown",
   "metadata": {},
   "source": [
    "<br>\n",
    "<br>\n",
    " "
   ]
  },
  {
   "cell_type": "code",
   "execution_count": 311,
   "metadata": {},
   "outputs": [],
   "source": [
    "class Solution(object):\n",
    "    def insert(self, root, val):\n",
    "        if root == None:\n",
    "            root = TreeNode(val)\n",
    "        else:\n",
    "            if val <= root.val:\n",
    "                if root.left == None:\n",
    "                    root.left = TreeNode(val)\n",
    "                    temp = root.left\n",
    "                else:\n",
    "                    temp = self.insert(root.left,val)               \n",
    "                \n",
    "            if val > root.val:\n",
    "                if root.right == None:\n",
    "                    root.right = TreeNode(val)\n",
    "                    temp = root.right\n",
    "                else:\n",
    "                    temp = self.insert(root.right,val)\n",
    "        return temp"
   ]
  },
  {
   "cell_type": "markdown",
   "metadata": {},
   "source": [
    "這次加入了回傳值temp，來測試看看結果"
   ]
  },
  {
   "cell_type": "markdown",
   "metadata": {},
   "source": [
    " "
   ]
  },
  {
   "cell_type": "code",
   "execution_count": 312,
   "metadata": {
    "scrolled": true
   },
   "outputs": [
    {
     "data": {
      "text/plain": [
       "<__main__.TreeNode at 0x105a27e80>"
      ]
     },
     "execution_count": 312,
     "metadata": {},
     "output_type": "execute_result"
    }
   ],
   "source": [
    "root1 = TreeNode(5)\n",
    "Solution().insert(root1,3)\n",
    "Solution().insert(root1,8)\n",
    "Solution().insert(root1,3)\n",
    "Solution().insert(root1,7)\n",
    "Solution().insert(root1,10)\n",
    "Solution().insert(root1,-5)\n",
    "Solution().insert(root1,6)"
   ]
  },
  {
   "cell_type": "markdown",
   "metadata": {},
   "source": [
    "修改後的insert有回傳值了！！！"
   ]
  },
  {
   "cell_type": "code",
   "execution_count": 313,
   "metadata": {},
   "outputs": [
    {
     "data": {
      "text/plain": [
       "True"
      ]
     },
     "execution_count": 313,
     "metadata": {},
     "output_type": "execute_result"
    }
   ],
   "source": [
    "Solution().insert(root1,9)==root1.right.right.left"
   ]
  },
  {
   "cell_type": "markdown",
   "metadata": {},
   "source": [
    "對了！！！ 雖然對了，但還是來看一下回傳值是什麼"
   ]
  },
  {
   "cell_type": "code",
   "execution_count": 314,
   "metadata": {},
   "outputs": [
    {
     "data": {
      "text/plain": [
       "<__main__.TreeNode at 0x105a27b38>"
      ]
     },
     "execution_count": 314,
     "metadata": {},
     "output_type": "execute_result"
    }
   ],
   "source": [
    "Solution().insert(root1,9)"
   ]
  },
  {
   "cell_type": "code",
   "execution_count": 315,
   "metadata": {},
   "outputs": [
    {
     "data": {
      "text/plain": [
       "<__main__.TreeNode at 0x105a27b38>"
      ]
     },
     "execution_count": 315,
     "metadata": {},
     "output_type": "execute_result"
    }
   ],
   "source": [
    "root1.right.right.left.left"
   ]
  },
  {
   "cell_type": "markdown",
   "metadata": {},
   "source": [
    "確定回傳值是node的儲存位置，並且回傳的node是對的"
   ]
  },
  {
   "cell_type": "code",
   "execution_count": 317,
   "metadata": {},
   "outputs": [
    {
     "name": "stdout",
     "output_type": "stream",
     "text": [
      "5\n",
      "3\n",
      "3\n",
      "-5\n",
      "8\n",
      "7\n",
      "6\n",
      "10\n",
      "9\n",
      "9\n"
     ]
    }
   ],
   "source": [
    "Solution().preorder(root1)"
   ]
  },
  {
   "cell_type": "markdown",
   "metadata": {},
   "source": [
    "一開始不知道回傳什麼，甚至根本不知道要回傳，天真地以為程式打一打就好了，導致回傳空值，不管怎麼判斷都錯，還好經歷幾個小時後，終於開竅想通了"
   ]
  },
  {
   "cell_type": "markdown",
   "metadata": {},
   "source": [
    "成功囉！！！ insert完成！！！"
   ]
  },
  {
   "cell_type": "markdown",
   "metadata": {},
   "source": [
    " "
   ]
  },
  {
   "cell_type": "markdown",
   "metadata": {},
   "source": [
    " "
   ]
  },
  {
   "cell_type": "markdown",
   "metadata": {},
   "source": [
    " "
   ]
  },
  {
   "cell_type": "markdown",
   "metadata": {},
   "source": [
    " "
   ]
  },
  {
   "cell_type": "markdown",
   "metadata": {},
   "source": [
    "## delete"
   ]
  },
  {
   "cell_type": "markdown",
   "metadata": {},
   "source": [
    "參考資料：https://www.itread01.com/content/1542339850.html"
   ]
  },
  {
   "cell_type": "code",
   "execution_count": 343,
   "metadata": {},
   "outputs": [],
   "source": [
    "def delete(root, target):\n",
    "        \n",
    "        if root == None:\n",
    "            return \n",
    "        else:\n",
    "            if root.val != target:\n",
    "                if target <= root.val:\n",
    "                    if root.left:\n",
    "                        delete(root.left,target)\n",
    "                if target > root.val:\n",
    "                    if root.right:\n",
    "                        delete(root.right,target)\n",
    "            else:\n",
    "                if root.left:\n",
    "                    a = Solution().maxnode(root)\n",
    "                    if root.left.val == root.val:\n",
    "                        delete(root.left,target)\n",
    "                else:\n",
    "                    if root.right:\n",
    "                        a = Solution().minnode(root)\n",
    "                root = a"
   ]
  },
  {
   "cell_type": "markdown",
   "metadata": {},
   "source": [
    "建立一棵樹"
   ]
  },
  {
   "cell_type": "code",
   "execution_count": 344,
   "metadata": {},
   "outputs": [],
   "source": [
    "root2 = TreeNode(5)"
   ]
  },
  {
   "cell_type": "code",
   "execution_count": 345,
   "metadata": {
    "scrolled": true
   },
   "outputs": [
    {
     "data": {
      "text/plain": [
       "<__main__.TreeNode at 0x105a2fd68>"
      ]
     },
     "execution_count": 345,
     "metadata": {},
     "output_type": "execute_result"
    }
   ],
   "source": [
    "Solution().insert(root2,3)\n",
    "Solution().insert(root2,8)\n",
    "Solution().insert(root2,3)\n",
    "Solution().insert(root2,7)\n",
    "Solution().insert(root2,10)\n",
    "Solution().insert(root2,-5)\n",
    "Solution().insert(root2,6)"
   ]
  },
  {
   "cell_type": "code",
   "execution_count": 346,
   "metadata": {},
   "outputs": [
    {
     "name": "stdout",
     "output_type": "stream",
     "text": [
      "5\n",
      "3\n",
      "3\n",
      "-5\n",
      "8\n",
      "7\n",
      "6\n",
      "10\n"
     ]
    }
   ],
   "source": [
    "Solution().preorder(root2)"
   ]
  },
  {
   "cell_type": "markdown",
   "metadata": {},
   "source": [
    "刪除root2底下的所有值為5的node"
   ]
  },
  {
   "cell_type": "code",
   "execution_count": 347,
   "metadata": {
    "scrolled": true
   },
   "outputs": [],
   "source": [
    "delete(root2,5)"
   ]
  },
  {
   "cell_type": "code",
   "execution_count": 348,
   "metadata": {},
   "outputs": [
    {
     "data": {
      "text/plain": [
       "[5, 3, -5, 8, 7, 6, 10]"
      ]
     },
     "execution_count": 348,
     "metadata": {},
     "output_type": "execute_result"
    }
   ],
   "source": [
    "temp2"
   ]
  },
  {
   "cell_type": "markdown",
   "metadata": {},
   "source": [
    "所有node.val"
   ]
  },
  {
   "cell_type": "code",
   "execution_count": 349,
   "metadata": {},
   "outputs": [
    {
     "name": "stdout",
     "output_type": "stream",
     "text": [
      "5\n",
      "3\n",
      "3\n",
      "-5\n",
      "8\n",
      "7\n",
      "6\n",
      "10\n"
     ]
    }
   ],
   "source": [
    "Solution().preorder(root2)"
   ]
  },
  {
   "cell_type": "markdown",
   "metadata": {},
   "source": [
    "咦！竟然跟原本一模一樣，根本沒有刪成功，檢查一下"
   ]
  },
  {
   "cell_type": "markdown",
   "metadata": {},
   "source": [
    "沒錯，的確沒有刪除成功，為什麼呢？？？（沒有找到原因）"
   ]
  },
  {
   "cell_type": "markdown",
   "metadata": {},
   "source": [
    " 決定重新打程式碼"
   ]
  },
  {
   "cell_type": "markdown",
   "metadata": {},
   "source": [
    " "
   ]
  },
  {
   "cell_type": "code",
   "execution_count": 354,
   "metadata": {},
   "outputs": [],
   "source": [
    "def delete(root, target):\n",
    "        \n",
    "        if root == None:\n",
    "            return \n",
    "        if root.val != target:\n",
    "            if target <= root.val:\n",
    "                if root.left:\n",
    "                    delete(root.left,target)\n",
    "            if target > root.val:\n",
    "                if root.right:\n",
    "                    delete(root.right,target)\n",
    "        else:\n",
    "            global temp2\n",
    "            temp2=[]\n",
    "            Solution().makelist(root,temp2)\n",
    "            temp2.remove(root.val)\n",
    "            if root.left == None and root.right == None:\n",
    "                root = None\n",
    "            else:\n",
    "                if root.left:\n",
    "                    a = Solution().maxnode(root)\n",
    "                else:\n",
    "                    if root.right:\n",
    "                        a = Solution().minnode(root)\n",
    "                temp2.remove(a.val)\n",
    "                root = TreeNode(a.val)\n",
    "                Solution().aa(root,temp2)"
   ]
  },
  {
   "cell_type": "code",
   "execution_count": 356,
   "metadata": {
    "scrolled": true
   },
   "outputs": [
    {
     "data": {
      "text/plain": [
       "<__main__.TreeNode at 0x105a6d5f8>"
      ]
     },
     "execution_count": 356,
     "metadata": {},
     "output_type": "execute_result"
    }
   ],
   "source": [
    "root2 = TreeNode(5)\n",
    "Solution().insert(root2,3)\n",
    "Solution().insert(root2,8)\n",
    "Solution().insert(root2,3)\n",
    "Solution().insert(root2,7)\n",
    "Solution().insert(root2,10)\n",
    "Solution().insert(root2,-5)\n",
    "Solution().insert(root2,6)"
   ]
  },
  {
   "cell_type": "code",
   "execution_count": 357,
   "metadata": {},
   "outputs": [],
   "source": [
    "delete(root2,5)"
   ]
  },
  {
   "cell_type": "code",
   "execution_count": 359,
   "metadata": {
    "scrolled": true
   },
   "outputs": [
    {
     "data": {
      "text/plain": [
       "[3, 3, -5, 8, 7, 6]"
      ]
     },
     "execution_count": 359,
     "metadata": {},
     "output_type": "execute_result"
    }
   ],
   "source": [
    "temp2"
   ]
  },
  {
   "cell_type": "code",
   "execution_count": 358,
   "metadata": {
    "scrolled": false
   },
   "outputs": [
    {
     "name": "stdout",
     "output_type": "stream",
     "text": [
      "5\n",
      "3\n",
      "3\n",
      "-5\n",
      "8\n",
      "7\n",
      "6\n",
      "10\n"
     ]
    }
   ],
   "source": [
    "Solution().preorder(root2)"
   ]
  },
  {
   "cell_type": "markdown",
   "metadata": {},
   "source": [
    "新的程式碼還是一樣沒有刪除成功，檢查一下"
   ]
  },
  {
   "cell_type": "code",
   "execution_count": 360,
   "metadata": {},
   "outputs": [],
   "source": [
    "def delete(root, target):\n",
    "        \n",
    "        if root == None:\n",
    "            return \n",
    "        if root.val != target:\n",
    "            if target <= root.val:\n",
    "                if root.left:\n",
    "                    delete(root.left,target)\n",
    "            if target > root.val:\n",
    "                if root.right:\n",
    "                    delete(root.right,target)\n",
    "        else:\n",
    "            global temp2\n",
    "            temp2=[]\n",
    "            Solution().makelist(root,temp2)\n",
    "            temp2.remove(root.val)\n",
    "            if root.left == None and root.right == None:\n",
    "                root = None\n",
    "            else:\n",
    "                if root.left:\n",
    "                    a = Solution().maxnode(root)\n",
    "                else:\n",
    "                    if root.right:\n",
    "                        a = Solution().minnode(root)\n",
    "                temp2.remove(a.val)\n",
    "                print('change',a.val)\n",
    "                root = TreeNode(a.val)\n",
    "                Solution().aa(root,temp2)\n",
    "\n"
   ]
  },
  {
   "cell_type": "code",
   "execution_count": 361,
   "metadata": {},
   "outputs": [
    {
     "name": "stdout",
     "output_type": "stream",
     "text": [
      "change 10\n"
     ]
    }
   ],
   "source": [
    "delete(root2,5)"
   ]
  },
  {
   "cell_type": "code",
   "execution_count": 362,
   "metadata": {
    "scrolled": false
   },
   "outputs": [
    {
     "data": {
      "text/plain": [
       "10"
      ]
     },
     "execution_count": 362,
     "metadata": {},
     "output_type": "execute_result"
    }
   ],
   "source": [
    "root2.right.right.val"
   ]
  },
  {
   "cell_type": "markdown",
   "metadata": {},
   "source": [
    "我的程式碼邏輯，如果刪除root，應該要由左邊最大的node來取代，如果沒有左邊則用右邊的最小值<br>\n",
    "但是10是全部的最大值，所以可能程式碼打錯了，檢查一下，的確打錯了，但即使如此，還是沒有刪除成功，沒辦法替代掉原本的node<br>\n",
    "到底是為什麼？？？(沒有解決)"
   ]
  },
  {
   "cell_type": "markdown",
   "metadata": {},
   "source": [
    " "
   ]
  },
  {
   "cell_type": "markdown",
   "metadata": {},
   "source": [
    "由於挫折感過大，決定打掉重練，我就不信邪，一直刪不掉！！！"
   ]
  },
  {
   "cell_type": "code",
   "execution_count": null,
   "metadata": {},
   "outputs": [],
   "source": [
    "class Solution(object):\n",
    "    def delete(self,root,target):\n",
    "        global temp2\n",
    "        temp2 = []\n",
    "        self.makelist(root,temp2)\n",
    "\n",
    "        if root == None:\n",
    "            return\n",
    "        else:\n",
    "            if root.val == target:\n",
    "                if root.left == None and root.right == None:\n",
    "                    root=None\n",
    "                    return\n",
    "                if root.left:\n",
    "                    nroot = self.maxnode(root.left)\n",
    "                else:\n",
    "                    if root.right:\n",
    "                        nroot = self.minnode(root.right)\n",
    "                temp2.remove(nroot.val)\n",
    "                root.val = nroot.val\n",
    "\n",
    "\n",
    "            root.left = None\n",
    "            root.right = None\n",
    "            for i in temp2[1:]:\n",
    "                if i != target:\n",
    "                    self.insert(root,i)"
   ]
  },
  {
   "cell_type": "markdown",
   "metadata": {},
   "source": [
    "由於執行這個以後，程式碼需要進行修改，才可以執行，所以決定在此放上程式碼進行參考解說，但不執行，執行程式碼為最上面的[程式碼](#程式碼)"
   ]
  },
  {
   "cell_type": "code",
   "execution_count": 364,
   "metadata": {},
   "outputs": [],
   "source": [
    "Solution().delete(root2,5)"
   ]
  },
  {
   "cell_type": "code",
   "execution_count": 365,
   "metadata": {
    "scrolled": true
   },
   "outputs": [
    {
     "data": {
      "text/plain": [
       "[5, 3, -5, 8, 7, 6, 10]"
      ]
     },
     "execution_count": 365,
     "metadata": {},
     "output_type": "execute_result"
    }
   ],
   "source": [
    "temp2"
   ]
  },
  {
   "cell_type": "code",
   "execution_count": 366,
   "metadata": {
    "scrolled": true
   },
   "outputs": [
    {
     "name": "stdout",
     "output_type": "stream",
     "text": [
      "3\n",
      "3\n",
      "-5\n",
      "8\n",
      "7\n",
      "6\n",
      "10\n"
     ]
    }
   ],
   "source": [
    "Solution().preorder(root2)"
   ]
  },
  {
   "cell_type": "markdown",
   "metadata": {},
   "source": [
    "成功將root(5)刪除了，並使用左邊最大的node(3)來取代為新的root"
   ]
  },
  {
   "cell_type": "markdown",
   "metadata": {},
   "source": [
    "除了刪除root的例子，我們也來嘗試一下刪除其他node看看結果如何"
   ]
  },
  {
   "cell_type": "code",
   "execution_count": 367,
   "metadata": {},
   "outputs": [],
   "source": [
    "Solution().delete(root2,8)"
   ]
  },
  {
   "cell_type": "code",
   "execution_count": 368,
   "metadata": {
    "scrolled": true
   },
   "outputs": [
    {
     "data": {
      "text/plain": [
       "[3, 3, -5, 8, 7, 6, 10]"
      ]
     },
     "execution_count": 368,
     "metadata": {},
     "output_type": "execute_result"
    }
   ],
   "source": [
    "temp2"
   ]
  },
  {
   "cell_type": "code",
   "execution_count": 369,
   "metadata": {
    "scrolled": true
   },
   "outputs": [
    {
     "name": "stdout",
     "output_type": "stream",
     "text": [
      "3\n",
      "3\n",
      "-5\n",
      "7\n",
      "6\n",
      "10\n"
     ]
    }
   ],
   "source": [
    "Solution().preorder(root2)"
   ]
  },
  {
   "cell_type": "markdown",
   "metadata": {},
   "source": [
    "成功將node(8)刪除，來檢驗一下node的位置"
   ]
  },
  {
   "cell_type": "code",
   "execution_count": 370,
   "metadata": {},
   "outputs": [
    {
     "data": {
      "text/plain": [
       "7"
      ]
     },
     "execution_count": 370,
     "metadata": {},
     "output_type": "execute_result"
    }
   ],
   "source": [
    "root2.right.val"
   ]
  },
  {
   "cell_type": "code",
   "execution_count": 371,
   "metadata": {},
   "outputs": [
    {
     "data": {
      "text/plain": [
       "10"
      ]
     },
     "execution_count": 371,
     "metadata": {},
     "output_type": "execute_result"
    }
   ],
   "source": [
    "root2.right.right.val"
   ]
  },
  {
   "cell_type": "code",
   "execution_count": 372,
   "metadata": {},
   "outputs": [
    {
     "data": {
      "text/plain": [
       "6"
      ]
     },
     "execution_count": 372,
     "metadata": {},
     "output_type": "execute_result"
    }
   ],
   "source": [
    "root2.right.left.val"
   ]
  },
  {
   "cell_type": "markdown",
   "metadata": {},
   "source": [
    "檢查正確，delete成功囉！！！"
   ]
  },
  {
   "cell_type": "markdown",
   "metadata": {},
   "source": [
    " "
   ]
  },
  {
   "cell_type": "markdown",
   "metadata": {},
   "source": [
    " "
   ]
  },
  {
   "cell_type": "markdown",
   "metadata": {},
   "source": [
    " "
   ]
  },
  {
   "cell_type": "markdown",
   "metadata": {},
   "source": [
    "## search\n",
    "參考資料：無"
   ]
  },
  {
   "cell_type": "code",
   "execution_count": null,
   "metadata": {},
   "outputs": [],
   "source": [
    "class Solution(object):\n",
    "    def search(self, root, target):\n",
    "        if root == None:\n",
    "            return None\n",
    "        if root.val == target:\n",
    "            return root\n",
    "        else:\n",
    "            if target > root.val:\n",
    "                temp = self.search(root.right,target)\n",
    "            else:\n",
    "                temp = self.search(root.left,target)\n",
    "                \n",
    "        return temp\n"
   ]
  },
  {
   "cell_type": "markdown",
   "metadata": {},
   "source": [
    "由於執行這個以後，程式碼需要進行修改，才可以執行，所以決定在此放上程式碼進行參考解說，但不執行，執行程式碼為最上面的[程式碼](#程式碼)"
   ]
  },
  {
   "cell_type": "markdown",
   "metadata": {},
   "source": [
    " "
   ]
  },
  {
   "cell_type": "code",
   "execution_count": 373,
   "metadata": {},
   "outputs": [],
   "source": [
    "root3 = TreeNode(5)"
   ]
  },
  {
   "cell_type": "code",
   "execution_count": 374,
   "metadata": {},
   "outputs": [
    {
     "data": {
      "text/plain": [
       "<__main__.TreeNode at 0x105aa2cf8>"
      ]
     },
     "execution_count": 374,
     "metadata": {},
     "output_type": "execute_result"
    }
   ],
   "source": [
    "Solution().insert(root3,3)\n",
    "Solution().insert(root3,8)\n",
    "Solution().insert(root3,3)\n",
    "Solution().insert(root3,7)\n",
    "Solution().insert(root3,10)\n",
    "Solution().insert(root3,-5)\n",
    "Solution().insert(root3,6)"
   ]
  },
  {
   "cell_type": "markdown",
   "metadata": {},
   "source": [
    "執行search"
   ]
  },
  {
   "cell_type": "code",
   "execution_count": 375,
   "metadata": {},
   "outputs": [
    {
     "data": {
      "text/plain": [
       "True"
      ]
     },
     "execution_count": 375,
     "metadata": {},
     "output_type": "execute_result"
    }
   ],
   "source": [
    "Solution().search(root3,10)==root3.right.right"
   ]
  },
  {
   "cell_type": "markdown",
   "metadata": {},
   "source": [
    "成功了！！！完全沒有任何問題"
   ]
  },
  {
   "cell_type": "markdown",
   "metadata": {},
   "source": [
    "但我們還是來檢驗看看回傳的node是否為最靠近root的那個"
   ]
  },
  {
   "cell_type": "code",
   "execution_count": 377,
   "metadata": {},
   "outputs": [
    {
     "data": {
      "text/plain": [
       "True"
      ]
     },
     "execution_count": 377,
     "metadata": {},
     "output_type": "execute_result"
    }
   ],
   "source": [
    "Solution().search(root3,3)==root3.left"
   ]
  },
  {
   "cell_type": "code",
   "execution_count": 378,
   "metadata": {},
   "outputs": [
    {
     "data": {
      "text/plain": [
       "False"
      ]
     },
     "execution_count": 378,
     "metadata": {},
     "output_type": "execute_result"
    }
   ],
   "source": [
    "Solution().search(root3,3)==root3.left.left"
   ]
  },
  {
   "cell_type": "markdown",
   "metadata": {},
   "source": [
    "沒錯，如果有相同的值，回傳的node為最接近root的那個node"
   ]
  },
  {
   "cell_type": "markdown",
   "metadata": {},
   "source": [
    "接著試試如果搜尋一個不存在tree裡的值，看看結果如何"
   ]
  },
  {
   "cell_type": "code",
   "execution_count": 379,
   "metadata": {},
   "outputs": [
    {
     "name": "stdout",
     "output_type": "stream",
     "text": [
      "None\n"
     ]
    }
   ],
   "source": [
    "print(Solution().search(root3,1))"
   ]
  },
  {
   "cell_type": "markdown",
   "metadata": {},
   "source": [
    "會回傳None，代表沒有這個值"
   ]
  },
  {
   "cell_type": "markdown",
   "metadata": {},
   "source": [
    "search完成！！！這是四個功能裡，最簡單的"
   ]
  },
  {
   "cell_type": "markdown",
   "metadata": {},
   "source": [
    " "
   ]
  },
  {
   "cell_type": "markdown",
   "metadata": {},
   "source": [
    " "
   ]
  },
  {
   "cell_type": "markdown",
   "metadata": {},
   "source": [
    " "
   ]
  },
  {
   "cell_type": "markdown",
   "metadata": {},
   "source": [
    "## modify\n",
    "參考資料：無"
   ]
  },
  {
   "cell_type": "code",
   "execution_count": 387,
   "metadata": {},
   "outputs": [],
   "source": [
    "def modify(root, target, new_val):\n",
    "        oldroot = root\n",
    "        Solution().replace(root,target, new_val)\n",
    "        \n",
    "        global temp1\n",
    "        temp1 = []\n",
    "        Solution().makelist(root,temp1)\n",
    "        \n",
    "        root = TreeNode(root.val)\n",
    "        for i in temp1[1:]:\n",
    "                Solution().insert(root,i)"
   ]
  },
  {
   "cell_type": "markdown",
   "metadata": {},
   "source": [
    "建立一棵樹"
   ]
  },
  {
   "cell_type": "code",
   "execution_count": 388,
   "metadata": {},
   "outputs": [],
   "source": [
    "root4 = TreeNode(5)"
   ]
  },
  {
   "cell_type": "code",
   "execution_count": 389,
   "metadata": {},
   "outputs": [
    {
     "data": {
      "text/plain": [
       "<__main__.TreeNode at 0x105a78c18>"
      ]
     },
     "execution_count": 389,
     "metadata": {},
     "output_type": "execute_result"
    }
   ],
   "source": [
    "Solution().insert(root4,3)\n",
    "Solution().insert(root4,8)\n",
    "Solution().insert(root4,3)\n",
    "Solution().insert(root4,7)\n",
    "Solution().insert(root4,10)\n",
    "Solution().insert(root4,-5)\n",
    "Solution().insert(root4,6)"
   ]
  },
  {
   "cell_type": "code",
   "execution_count": 390,
   "metadata": {},
   "outputs": [
    {
     "name": "stdout",
     "output_type": "stream",
     "text": [
      "5\n",
      "3\n",
      "3\n",
      "-5\n",
      "8\n",
      "7\n",
      "6\n",
      "10\n"
     ]
    }
   ],
   "source": [
    "Solution().preorder(root4)"
   ]
  },
  {
   "cell_type": "code",
   "execution_count": 391,
   "metadata": {},
   "outputs": [],
   "source": [
    "modify(root4,7,4)"
   ]
  },
  {
   "cell_type": "code",
   "execution_count": 392,
   "metadata": {},
   "outputs": [
    {
     "name": "stdout",
     "output_type": "stream",
     "text": [
      "5\n",
      "3\n",
      "3\n",
      "-5\n",
      "8\n",
      "4\n",
      "6\n",
      "10\n"
     ]
    }
   ],
   "source": [
    "Solution().preorder(root4)"
   ]
  },
  {
   "cell_type": "markdown",
   "metadata": {},
   "source": [
    "咦！！！跟原本一模一樣，這感覺跟delete一開始好像，或許是我想得太簡單，修改一下程式碼"
   ]
  },
  {
   "cell_type": "markdown",
   "metadata": {},
   "source": [
    " "
   ]
  },
  {
   "cell_type": "code",
   "execution_count": 401,
   "metadata": {},
   "outputs": [],
   "source": [
    "def modify(root, target, new_val):\n",
    "        if root == None:\n",
    "            return\n",
    "        else:\n",
    "            global temp3\n",
    "            temp3 = []\n",
    "            Solution().makelist(root,temp3)\n",
    "            if root.val == target:\n",
    "                root.val = target\n",
    "                temp[0] = target\n",
    "                if root.left==None and root.right == None:\n",
    "                    return\n",
    "            root.left,root.right = None,None\n",
    "            for i in temp3[1:]:\n",
    "                if i == target:\n",
    "                    i = new_val\n",
    "                Solution().insert(root,i)"
   ]
  },
  {
   "cell_type": "markdown",
   "metadata": {},
   "source": [
    "可以執行，也能夠跑出新的BST，可是不見得會比原本的BST短<br>\n",
    "例如："
   ]
  },
  {
   "cell_type": "code",
   "execution_count": 403,
   "metadata": {},
   "outputs": [
    {
     "data": {
      "text/plain": [
       "<__main__.TreeNode at 0x105a26c50>"
      ]
     },
     "execution_count": 403,
     "metadata": {},
     "output_type": "execute_result"
    }
   ],
   "source": [
    "root4 = TreeNode(5)\n",
    "Solution().insert(root4,3)\n",
    "Solution().insert(root4,8)\n",
    "Solution().insert(root4,3)\n",
    "Solution().insert(root4,7)\n",
    "Solution().insert(root4,10)\n",
    "Solution().insert(root4,-5)\n",
    "Solution().insert(root4,6)"
   ]
  },
  {
   "cell_type": "code",
   "execution_count": 404,
   "metadata": {},
   "outputs": [
    {
     "data": {
      "text/plain": [
       "4"
      ]
     },
     "execution_count": 404,
     "metadata": {},
     "output_type": "execute_result"
    }
   ],
   "source": [
    "Solution().height(root4)"
   ]
  },
  {
   "cell_type": "markdown",
   "metadata": {},
   "source": [
    "原本Tree的深度為4"
   ]
  },
  {
   "cell_type": "code",
   "execution_count": 405,
   "metadata": {
    "scrolled": true
   },
   "outputs": [
    {
     "name": "stdout",
     "output_type": "stream",
     "text": [
      "5\n",
      "3\n",
      "3\n",
      "-5\n",
      "8\n",
      "7\n",
      "6\n",
      "10\n"
     ]
    }
   ],
   "source": [
    "Solution().preorder(root4)"
   ]
  },
  {
   "cell_type": "code",
   "execution_count": 406,
   "metadata": {},
   "outputs": [],
   "source": [
    "modify(root4,3,9)"
   ]
  },
  {
   "cell_type": "code",
   "execution_count": 407,
   "metadata": {},
   "outputs": [
    {
     "data": {
      "text/plain": [
       "[5, 3, 3, -5, 8, 7, 6, 10]"
      ]
     },
     "execution_count": 407,
     "metadata": {},
     "output_type": "execute_result"
    }
   ],
   "source": [
    "temp3"
   ]
  },
  {
   "cell_type": "code",
   "execution_count": 408,
   "metadata": {},
   "outputs": [
    {
     "name": "stdout",
     "output_type": "stream",
     "text": [
      "5\n",
      "-5\n",
      "9\n",
      "9\n",
      "8\n",
      "7\n",
      "6\n",
      "10\n"
     ]
    }
   ],
   "source": [
    "Solution().preorder(root4)"
   ]
  },
  {
   "cell_type": "code",
   "execution_count": 409,
   "metadata": {},
   "outputs": [
    {
     "data": {
      "text/plain": [
       "6"
      ]
     },
     "execution_count": 409,
     "metadata": {},
     "output_type": "execute_result"
    }
   ],
   "source": [
    "Solution().height(root4)"
   ]
  },
  {
   "cell_type": "markdown",
   "metadata": {},
   "source": [
    "modify後的Tree深度變為6，雖然符合BST，但深度比原本還深，並非是一個好樹，所以modify的程式碼需要再進行細修。"
   ]
  },
  {
   "cell_type": "markdown",
   "metadata": {},
   "source": [
    "因此我增加了一個條件，如果modify後的深度比原本的還要深，那就取所有介於所有node值中間的那個node值來當新的root，再重新建造一棵樹。<br>\n",
    "程式碼如下："
   ]
  },
  {
   "cell_type": "code",
   "execution_count": null,
   "metadata": {},
   "outputs": [],
   "source": [
    "class Solution(object):\n",
    "    def modify(self, root, target, new_val):\n",
    "        a = self.height(root)\n",
    "        if root == None:\n",
    "            return\n",
    "        else:\n",
    "            global temp4\n",
    "            global temp3\n",
    "            temp3 = []\n",
    "            temp4 = []\n",
    "            self.makelist(root,temp3)\n",
    "            if root.val == target:\n",
    "                root.val = new_val\n",
    "                temp3[0] = new_val\n",
    "                if root.left==None and root.right == None:\n",
    "                    return\n",
    "            root.left,root.right = None,None\n",
    "            temp4.append(root.val)\n",
    "            for i in temp3[1:]:\n",
    "                if i == target:\n",
    "                    i = new_val\n",
    "                temp4.append(i)\n",
    "                self.insert(root,i)\n",
    "                \n",
    "            if self.height(root) > a:  #reconstruction tree\n",
    "                b = sorted(temp4)\n",
    "                nroot = b[len(b)//2-1]\n",
    "                root.val = nroot\n",
    "                root.left,root.right = None,None\n",
    "                temp4.remove(nroot)\n",
    "                for i in temp4:\n",
    "                    if i == target:\n",
    "                        i = new_val\n",
    "                    self.insert(root,i)\n",
    "        return root"
   ]
  },
  {
   "cell_type": "markdown",
   "metadata": {},
   "source": [
    "由於執行這個以後，程式碼需要進行修改，才可以執行，所以決定在此放上程式碼進行參考解說，但不執行，執行程式碼為最上面的[程式碼](#程式碼)"
   ]
  },
  {
   "cell_type": "code",
   "execution_count": 465,
   "metadata": {},
   "outputs": [
    {
     "data": {
      "text/plain": [
       "<__main__.TreeNode at 0x1059feb38>"
      ]
     },
     "execution_count": 465,
     "metadata": {},
     "output_type": "execute_result"
    }
   ],
   "source": [
    "root4 = TreeNode(5)\n",
    "Solution().insert(root4,3)\n",
    "Solution().insert(root4,8)\n",
    "Solution().insert(root4,3)\n",
    "Solution().insert(root4,7)\n",
    "Solution().insert(root4,10)\n",
    "Solution().insert(root4,-5)\n",
    "Solution().insert(root4,6)"
   ]
  },
  {
   "cell_type": "code",
   "execution_count": 466,
   "metadata": {},
   "outputs": [
    {
     "data": {
      "text/plain": [
       "4"
      ]
     },
     "execution_count": 466,
     "metadata": {},
     "output_type": "execute_result"
    }
   ],
   "source": [
    "Solution().height(root4)"
   ]
  },
  {
   "cell_type": "markdown",
   "metadata": {},
   "source": [
    "原本Tree的深度為4"
   ]
  },
  {
   "cell_type": "code",
   "execution_count": 467,
   "metadata": {
    "scrolled": true
   },
   "outputs": [
    {
     "name": "stdout",
     "output_type": "stream",
     "text": [
      "5\n",
      "3\n",
      "3\n",
      "-5\n",
      "8\n",
      "7\n",
      "6\n",
      "10\n"
     ]
    }
   ],
   "source": [
    "Solution().preorder(root4)"
   ]
  },
  {
   "cell_type": "markdown",
   "metadata": {},
   "source": [
    "修改後的程式碼執行結果"
   ]
  },
  {
   "cell_type": "code",
   "execution_count": 468,
   "metadata": {
    "scrolled": true
   },
   "outputs": [
    {
     "data": {
      "text/plain": [
       "<__main__.TreeNode at 0x1059fec50>"
      ]
     },
     "execution_count": 468,
     "metadata": {},
     "output_type": "execute_result"
    }
   ],
   "source": [
    "Solution().modify(root4,3,9)"
   ]
  },
  {
   "cell_type": "code",
   "execution_count": 469,
   "metadata": {},
   "outputs": [
    {
     "data": {
      "text/plain": [
       "[5, 3, 3, -5, 8, 7, 6, 10]"
      ]
     },
     "execution_count": 469,
     "metadata": {},
     "output_type": "execute_result"
    }
   ],
   "source": [
    "temp3"
   ]
  },
  {
   "cell_type": "code",
   "execution_count": 470,
   "metadata": {},
   "outputs": [
    {
     "name": "stdout",
     "output_type": "stream",
     "text": [
      "7\n",
      "5\n",
      "-5\n",
      "6\n",
      "9\n",
      "9\n",
      "8\n",
      "10\n"
     ]
    }
   ],
   "source": [
    "Solution().preorder(root4)"
   ]
  },
  {
   "cell_type": "code",
   "execution_count": 471,
   "metadata": {},
   "outputs": [
    {
     "data": {
      "text/plain": [
       "4"
      ]
     },
     "execution_count": 471,
     "metadata": {},
     "output_type": "execute_result"
    }
   ],
   "source": [
    "Solution().height(root4)"
   ]
  },
  {
   "cell_type": "markdown",
   "metadata": {},
   "source": [
    "由其他node來替換原本的root，在重建樹，因而得到與原本相同深度的樹囉！"
   ]
  },
  {
   "cell_type": "markdown",
   "metadata": {},
   "source": [
    "程式碼增加的條件為：如果深度>原來的深度，則取代原本的root進行重建動作。"
   ]
  },
  {
   "cell_type": "markdown",
   "metadata": {},
   "source": [
    "太開心了！！！modify也完成囉！"
   ]
  },
  {
   "cell_type": "markdown",
   "metadata": {},
   "source": [
    " "
   ]
  },
  {
   "cell_type": "markdown",
   "metadata": {},
   "source": [
    " "
   ]
  },
  {
   "cell_type": "markdown",
   "metadata": {},
   "source": [
    " "
   ]
  },
  {
   "cell_type": "markdown",
   "metadata": {},
   "source": [
    "## 其他功能"
   ]
  },
  {
   "cell_type": "code",
   "execution_count": null,
   "metadata": {},
   "outputs": [],
   "source": [
    "    def preorder(self,root):\n",
    "        print(root.val)\n",
    "        if root.left:\n",
    "            self.preorder(root.left)\n",
    "        if root.right:\n",
    "            self.preorder(root.right)\n",
    "                "
   ]
  },
  {
   "cell_type": "markdown",
   "metadata": {},
   "source": [
    "程式碼參考：https://github.com/pecu/DSA/blob/master/10_RedBlackTree/RBT.py <br>\n",
    "前序：順序是根節點、左子節點、右子節點，根排在前面。\n",
    "<br>\n",
    "<br>\n",
    "![](https://ithelp.ithome.com.tw/upload/images/20181028/20111557YgB20xzqR3.jpg)\n",
    "[圖片來源](https://ithelp.ithome.com.tw/articles/10205571)<br>\n",
    "結果：[1, 2, 4, 7, 8, 5, 3, 6, 9, 10]"
   ]
  },
  {
   "cell_type": "code",
   "execution_count": null,
   "metadata": {},
   "outputs": [],
   "source": [
    "    def makelist(self,root,temp): #創一個所有node.val的list\n",
    "        temp.append(root.val)\n",
    "        if root.left:\n",
    "            self.makelist(root.left,temp)\n",
    "        if root.right:\n",
    "            self.makelist(root.right,temp)"
   ]
  },
  {
   "cell_type": "markdown",
   "metadata": {},
   "source": [
    "程式碼參考：preorder(self,root)<br>\n",
    "就是將preorder的結果輸出為list\n"
   ]
  },
  {
   "cell_type": "code",
   "execution_count": null,
   "metadata": {},
   "outputs": [],
   "source": [
    "    def maxnode(self,root): #尋找root下的最大值  \n",
    "        if root == None:\n",
    "            return\n",
    "        while root.right != None:\n",
    "            root = root.right\n",
    "        return root"
   ]
  },
  {
   "cell_type": "markdown",
   "metadata": {},
   "source": [
    "尋找最大值node<br>\n",
    "程式碼參考：https://www.itread01.com/content/1542339850.html"
   ]
  },
  {
   "cell_type": "code",
   "execution_count": null,
   "metadata": {},
   "outputs": [],
   "source": [
    "    def minnode(self,root): #尋找root下的最小值\n",
    "        if root == None:\n",
    "            return\n",
    "        while root.left != None:\n",
    "            root = root.left\n",
    "        return root"
   ]
  },
  {
   "cell_type": "markdown",
   "metadata": {},
   "source": [
    "尋找最小值node<br>\n",
    "程式碼參考：https://www.itread01.com/content/1542339850.html"
   ]
  },
  {
   "cell_type": "code",
   "execution_count": null,
   "metadata": {},
   "outputs": [],
   "source": [
    "    def height(self,root):  #樹的深度  \n",
    "        if root is None: \n",
    "            return 0 \n",
    "        else :\n",
    "            leftheight = self.height(root.left)\n",
    "            rightheight = self.height(root.right)\n",
    "            \n",
    "            if leftheight>rightheight:\n",
    "                return leftheight + 1\n",
    "            else:\n",
    "                return rightheight +1"
   ]
  },
  {
   "cell_type": "markdown",
   "metadata": {},
   "source": [
    "程式碼參考：https://www.geeksforgeeks.org/level-order-tree-traversal/ <br>\n",
    "深度：判斷樹有幾層"
   ]
  },
  {
   "cell_type": "code",
   "execution_count": null,
   "metadata": {},
   "outputs": [],
   "source": [
    "    def count(self,root): #有幾個node\n",
    "        count = 1\n",
    "        a = 0\n",
    "        b = 0\n",
    "        if root.left:\n",
    "            a = self.count(root.left)\n",
    "        if root.right:\n",
    "            b = self.count(root.right)\n",
    "        return count+a+b"
   ]
  },
  {
   "cell_type": "markdown",
   "metadata": {},
   "source": [
    "程式碼：自創<br>\n",
    "節點個數：能夠判斷此樹總共有幾個node"
   ]
  },
  {
   "cell_type": "markdown",
   "metadata": {},
   "source": [
    " "
   ]
  },
  {
   "cell_type": "markdown",
   "metadata": {},
   "source": [
    " "
   ]
  },
  {
   "cell_type": "markdown",
   "metadata": {},
   "source": [
    " "
   ]
  },
  {
   "cell_type": "markdown",
   "metadata": {},
   "source": [
    "## 流程圖"
   ]
  },
  {
   "cell_type": "markdown",
   "metadata": {},
   "source": [
    "### insert流程圖\n",
    "![](https://github.com/jiaying777/DATA-STRUCTURES-AND-ALGORITHMS/blob/master/Binary%20Search%20Tree/insert流程圖.jpg?raw=true)"
   ]
  },
  {
   "cell_type": "markdown",
   "metadata": {},
   "source": [
    " "
   ]
  },
  {
   "cell_type": "markdown",
   "metadata": {},
   "source": [
    " "
   ]
  },
  {
   "cell_type": "markdown",
   "metadata": {},
   "source": [
    " "
   ]
  },
  {
   "cell_type": "markdown",
   "metadata": {},
   "source": [
    " "
   ]
  },
  {
   "cell_type": "markdown",
   "metadata": {},
   "source": [
    "### delete流程圖\n",
    "![](https://github.com/jiaying777/DATA-STRUCTURES-AND-ALGORITHMS/blob/master/Binary%20Search%20Tree/delete%20流程圖.jpg?raw=true)"
   ]
  },
  {
   "cell_type": "markdown",
   "metadata": {},
   "source": [
    " "
   ]
  },
  {
   "cell_type": "markdown",
   "metadata": {},
   "source": [
    " "
   ]
  },
  {
   "cell_type": "markdown",
   "metadata": {},
   "source": [
    " "
   ]
  },
  {
   "cell_type": "markdown",
   "metadata": {},
   "source": [
    " "
   ]
  },
  {
   "cell_type": "markdown",
   "metadata": {},
   "source": [
    "### search流程圖\n",
    "![](https://github.com/jiaying777/DATA-STRUCTURES-AND-ALGORITHMS/blob/master/Binary%20Search%20Tree/search流程圖.jpg?raw=true)"
   ]
  },
  {
   "cell_type": "markdown",
   "metadata": {},
   "source": [
    " "
   ]
  },
  {
   "cell_type": "markdown",
   "metadata": {},
   "source": [
    " "
   ]
  },
  {
   "cell_type": "markdown",
   "metadata": {},
   "source": [
    " "
   ]
  },
  {
   "cell_type": "markdown",
   "metadata": {},
   "source": [
    " "
   ]
  },
  {
   "cell_type": "markdown",
   "metadata": {},
   "source": [
    "### modify流程圖\n",
    "![](https://github.com/jiaying777/DATA-STRUCTURES-AND-ALGORITHMS/blob/master/Binary%20Search%20Tree/modify流程圖.jpg?raw=true)"
   ]
  },
  {
   "cell_type": "markdown",
   "metadata": {},
   "source": [
    " "
   ]
  },
  {
   "cell_type": "markdown",
   "metadata": {},
   "source": [
    " "
   ]
  },
  {
   "cell_type": "markdown",
   "metadata": {},
   "source": [
    " "
   ]
  },
  {
   "cell_type": "markdown",
   "metadata": {},
   "source": [
    " "
   ]
  },
  {
   "cell_type": "markdown",
   "metadata": {},
   "source": [
    "## 參考資料"
   ]
  },
  {
   "cell_type": "markdown",
   "metadata": {},
   "source": [
    "http://alrightchiu.github.io/SecondRound/binary-search-tree-introjian-jie.html#bst ---> [Binary Search Tree](#Binary-Search-Tree)<br>\n",
    "http://alrightchiu.github.io/SecondRound/binary-tree-introjian-jie.html ---> [Binary Search Tree](#Binary-Search-Tree)<br>\n",
    "https://www.itread01.com/content/1542339850.html ---> [delete](#delete) <br>\n",
    "https://github.com/pecu/DSA/blob/master/10_RedBlackTree/RBT.py  ---> [其他功能](#其他功能)- preorder<br>\n",
    "https://ithelp.ithome.com.tw/articles/10205571 ---> [其他功能](#其他功能)- preorder圖片來源<br>\n",
    "https://www.itread01.com/content/1542339850.html --->  [其他功能](#其他功能)- maxnode & minnode<br>\n",
    "https://www.geeksforgeeks.org/level-order-tree-traversal/ ---> [其他功能](#其他功能)- height<br>\n",
    "https://www.itread01.com/content/1546379497.html ---> 僅欣賞，並未參考使用"
   ]
  }
 ],
 "metadata": {
  "kernelspec": {
   "display_name": "Python 3",
   "language": "python",
   "name": "python3"
  },
  "language_info": {
   "codemirror_mode": {
    "name": "ipython",
    "version": 3
   },
   "file_extension": ".py",
   "mimetype": "text/x-python",
   "name": "python",
   "nbconvert_exporter": "python",
   "pygments_lexer": "ipython3",
   "version": "3.7.3"
  }
 },
 "nbformat": 4,
 "nbformat_minor": 2
}
