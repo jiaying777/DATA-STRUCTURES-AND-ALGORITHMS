{
 "cells": [
  {
   "cell_type": "markdown",
   "metadata": {},
   "source": [
    "# BST功能說明\n",
    "05113009 哲學四 吳家瑩\n",
    "\n",
    "* [insert](#insert)\n",
    "* [delete](#delete)\n",
    "* [search](#search)\n",
    "* [modify](#modify)\n",
    "* [參考資料](#參考資料)"
   ]
  },
  {
   "cell_type": "markdown",
   "metadata": {},
   "source": [
    "## insert\n",
    "insert(root,val)"
   ]
  },
  {
   "cell_type": "markdown",
   "metadata": {},
   "source": [
    "新增功能是將一個新的值(val) 放入BST 裡面，每個值都有一個自己的TreeNode，所以我們需要新增一個含有val 的TreeNode ，並且放入BST裡。<br>\n",
    "根據BST的規則，左邊放入比自己小的，右邊放比自己大的，一樣大的值也放入左邊(自己設的) 所以我們將要新增的TreeNode(val) 必須根據此規則找到空的位置放入。<br>\n",
    "例如：<br>\n",
    "有一棵樹的值為[6,3,7,3,8,4,9,1]，要新增''4''這個值<br>\n",
    "樹：\n",
    "\n",
    "                    6\n",
    "                   /  \\\n",
    "                 3     7\n",
    "                / \\     \\\n",
    "              3    4     8 \n",
    "             /             \\\n",
    "            1                9\n",
    "            \n",
    "新增\"4\"：\n",
    "\n",
    "                    6\n",
    "                   /  \\\n",
    "                 3     7\n",
    "                / \\     \\\n",
    "              3    4     8 \n",
    "             /    /        \\\n",
    "            1   '4'          9\n",
    "            \n",
    "因為 4<6(root) 所以往左邊， 4>3(root.left) 往右，4=4(root.left.right) 往左，所以會放在第三層的4左邊，因此新增的TreeNode(4)位置為：root.left.right.left<br>\n",
    "\n",
    "所以根據這個邏輯，我的程式碼運作為：如果沒有root，那麼root = TreeNode(val)，如果 val>root.val 則往右，val<=root.val 則往左。<br>\n",
    "\n",
    "    if val>root.val:\n",
    "        root.right = TreeNode(val)\n",
    "    if val<=root.val:\n",
    "        root.left = TreeNode(val)\n",
    "        \n",
    "但是我們必須先判斷root是否有children，如果有我們就要往下一層尋找空的位置，所以需要增加條件：<br>\n",
    "\n",
    "    if val>root.val:\n",
    "        if root.right == None:\n",
    "            root.right = TreeNode(val)\n",
    "        else:\n",
    "            insert(root.right,val)\n",
    "            \n",
    "    if val<=root.val:\n",
    "        if root.left == None:\n",
    "            root.left = TreeNode(val)\n",
    "        else:\n",
    "            insert(root.left,val)\n",
    "            \n",
    "使用遞迴 insert(root,val) 再進行下一層的搜索，直到找到適當的位置後，放入新增的TreeNode(val)         \n",
    "\n",
    "\n",
    "        "
   ]
  },
  {
   "cell_type": "markdown",
   "metadata": {},
   "source": [
    " "
   ]
  },
  {
   "cell_type": "markdown",
   "metadata": {},
   "source": [
    " "
   ]
  },
  {
   "cell_type": "markdown",
   "metadata": {},
   "source": [
    "## delete\n",
    "delete(root,target)"
   ]
  },
  {
   "cell_type": "markdown",
   "metadata": {},
   "source": [
    "刪除功能是將樹中原有的值刪除，亦即將整個TreeNode(val)刪除，由於刪除其中的TreeNode可能會破壞BST原本的結構與規則，所以我們需要在移動最小結構的狀況下執行。此刪除功能是將所有擁有相同的值的TreeNode都刪除。<br>\n",
    "例如：<br>\n",
    "\n",
    "\n",
    "                    6\n",
    "                   /  \\\n",
    "                 3     7\n",
    "                / \\     \\\n",
    "              3    4     8 \n",
    "             /             \\\n",
    "            1                9\n",
    "            \n",
    "刪除數值為3的TreeNode，有2個TreeNode的值為3，所以需要都刪除：<br>\n",
    "\n",
    "\n",
    "                    6\n",
    "                   /  \\\n",
    "                 1     7\n",
    "                  \\      \\\n",
    "                   4      8 \n",
    "                            \\\n",
    "                             9\n",
    "                                        \n",
    "搜尋方式為 3!=6 and 3<6，所以往左，3==3 刪除，因為找到target了，但是有可能有相同的值，根據[insert](#insert)相同的值會放在左邊，所以往左繼續找找看還有沒有含有3的TreeNode，3!=-5 and 3>1，往右但是此處的TreeNode(1)沒有children，則停止搜尋。\n",
    "\n",
    "如果刪除的TreeNode(val)底下有children ，則刪除的TreeNode會用其底下的TreeNode 來作替代，規則為：<br>\n",
    "若左邊有children，則找左邊children中值最大的TreeNode來取代，若是左邊沒有則判斷右邊是否有children，如果有則找出右邊值最小的TreeNode來取代。<br>\n",
    "\n",
    "首先我們必須要找到值與target相符的TreeNode，再來將找到的目標刪除，必根據上述規則找到children取代，若沒有children則直接刪除即可。<br>\n",
    "這裡我使用的方法是將所有值都存入list，再將list中的target刪除，並重建BST，程式碼如下：\n",
    "\n",
    "            root.left = None\n",
    "            root.right = None\n",
    "            for i in temp2[1:]:\n",
    "                if i != target:\n",
    "                    self.insert(root,i)\n",
    "                    \n",
    "先將root的左右清空以便重建BST，再用for loop 依次讀取list裡面的值，若不等於target，才會insert進BST裡，這裡會運用到上一個功能 [insert](#insert)，當然個方法必須要保留原本的root，所以當我們刪除的剛好是root的話，就需要再給他幾個條件：<br>\n",
    "\n",
    "            if root.val == target:\n",
    "                if root.left == None and root.right == None:\n",
    "                    root=None\n",
    "                    return\n",
    "                if root.left:\n",
    "                    nroot = self.maxnode(root.left)\n",
    "                else:\n",
    "                    if root.right:\n",
    "                        nroot = self.minnode(root.right)\n",
    "                temp2.remove(nroot.val)\n",
    "                root.val = nroot.val\n",
    "\n",
    "若是root沒有children，可以直接刪除，刪除後回傳None，但root有children的話，我們就要利用上述說的規則找出最適合的children來取代，再進行BST的重建。\n"
   ]
  },
  {
   "cell_type": "markdown",
   "metadata": {},
   "source": [
    " "
   ]
  },
  {
   "cell_type": "markdown",
   "metadata": {},
   "source": [
    " "
   ]
  },
  {
   "cell_type": "markdown",
   "metadata": {},
   "source": [
    "## search\n",
    "search(root,target)"
   ]
  },
  {
   "cell_type": "markdown",
   "metadata": {},
   "source": [
    "搜尋功能是從BST中找出值符合目標的TreeNode，並將其回傳。<br>\n",
    "此功能只能回傳離root最近且含有target的TreeNode，所以並不會將所有含target的TreeNode都回傳。<br>\n",
    "例如：<br>\n",
    "\n",
    "                6\n",
    "               /  \\\n",
    "             3     7\n",
    "            / \\     \\\n",
    "          3    4     8 \n",
    "         /             \\\n",
    "        1                9\n",
    "        \n",
    "搜尋target = 7：\n",
    "\n",
    "                6\n",
    "               /  \\\n",
    "             3    '7'\n",
    "            / \\     \\\n",
    "          3    4     8 \n",
    "         /             \\\n",
    "        1                9\n",
    "        \n",
    "        \n",
    "則會回傳含有7的TreeNode，位置為：root.left<br>\n",
    "搜尋方式為一個一個搜尋，7!=6 and 7>6 往右，7==7 回傳。因為此功能只找含有target且離root最近的TreeNode，所以不需要繼續搜尋。<br>\n",
    "程式碼如下：<br>\n",
    "\n",
    "        if root.val == target:\n",
    "            return root\n",
    "        else:\n",
    "            if target > root.val:\n",
    "                temp = self.search(root.right,target)\n",
    "            else:\n",
    "                temp = self.search(root.left,target)\n",
    "                \n",
    "        return temp\n",
    "        \n",
    "這裡使用遞迴的方式，不斷往下尋找，只要找到相符的TreeNode即回傳，結束函式，不需要繼續找。"
   ]
  },
  {
   "cell_type": "markdown",
   "metadata": {},
   "source": [
    " "
   ]
  },
  {
   "cell_type": "markdown",
   "metadata": {},
   "source": [
    " "
   ]
  },
  {
   "cell_type": "markdown",
   "metadata": {},
   "source": [
    "## modify\n",
    "modify(root,target,new_val)"
   ]
  },
  {
   "cell_type": "markdown",
   "metadata": {},
   "source": [
    "修改功能是更改BST裡面現有TreeNode的值，由於修改TreeNode的值，所以可能會違反BST的規則，因此需要重建BST。<br>\n",
    "\n",
    "                6\n",
    "               /  \\\n",
    "             3     7\n",
    "            / \\     \\\n",
    "          3    4     8 \n",
    "         /             \\\n",
    "        1                9\n",
    "        \n",
    "修改3為9：\n",
    "\n",
    "                6\n",
    "               /  \\\n",
    "             9     7\n",
    "            / \\     \\\n",
    "          9    4     8 \n",
    "         /             \\\n",
    "        1                9\n",
    "        \n",
    "搜尋方式：3!=6 and 3<6 往左，３==3 修改為9，與target相符往左找找看還有沒有相同的值，３==3 修改為9，繼續往左找，3!=1 and 3>1 往右，沒有children了，所以結束搜尋修改。<br>\n",
    "修改完的BST並不符合規則，所以我們要進行重建的動作。\n",
    "\n",
    "                6\n",
    "               /  \\\n",
    "             1     9\n",
    "              \\     \\\n",
    "               4     9 \n",
    "                       \\\n",
    "                        7\n",
    "                          \\\n",
    "                           8\n",
    "                             \\\n",
    "                              9\n",
    "                              \n",
    "重建完的BST的深度比原本還要深且變成linked list，這樣就失去BST的好處了，所以我們需要對BST在進行一次重建。<br>\n",
    "根據程式碼，重建方式為：找出所有TreeNode value介於最中間的值，並將其訂為新的root重建此數。<br>\n",
    "\n",
    "程式碼如下：\n",
    "\n",
    "            if root.val == target:\n",
    "                root.val = target\n",
    "                temp[0] = target\n",
    "                if root.left==None and root.right == None:\n",
    "                    return\n",
    "            root.left,root.right = None,None\n",
    "            temp4.append(root.val)\n",
    "            for i in temp3[1:]:\n",
    "                if i == target:\n",
    "                    i = new_val\n",
    "                temp4.append(i)\n",
    "                self.insert(root,i)\n",
    "                \n",
    "判斷root是否等於target，等於的話則修改root的值，再進行重建，若不等於root.val則將所有的值放入list中，並進行重建，<br>\n",
    "此處用for loop進行修改與新增，若值等於target則直接修改list並新增進BST，若不等於target則直接新增，全部都新增完成後，BST則重建完成。\n",
    "\n",
    "            if self.height(root) > a: \n",
    "                b = sorted(temp4)\n",
    "                nroot = b[len(b)//2-1]\n",
    "                root.val = nroot\n",
    "                root.left,root.right = None,None\n",
    "                temp4.remove(nroot)\n",
    "                for i in temp4:\n",
    "                    if i == target:\n",
    "                        i = new_val\n",
    "                    self.insert(root,i) \n",
    "                    \n",
    " 需要先判斷新的BST深度是否大於舊的深度(a)，若大於原本的深度則更換root再重建。                   "
   ]
  },
  {
   "cell_type": "markdown",
   "metadata": {},
   "source": [
    " "
   ]
  },
  {
   "cell_type": "markdown",
   "metadata": {},
   "source": [
    "以上的程式碼皆為部分程式碼，並非完整之程式碼，所以不可執行，完整程式碼在此 [程式碼](https://github.com/jiaying777/DATA-STRUCTURES-AND-ALGORITHMS/blob/master/HW3/binary_search_tree_05113009.py)"
   ]
  },
  {
   "cell_type": "markdown",
   "metadata": {},
   "source": [
    " "
   ]
  },
  {
   "cell_type": "markdown",
   "metadata": {},
   "source": [
    "## 參考資料 "
   ]
  },
  {
   "cell_type": "markdown",
   "metadata": {},
   "source": [
    " https://github.com/jiaying777/DATA-STRUCTURES-AND-ALGORITHMS/blob/master/HW3/binary%20search%20tree%20學習歷程與流程圖.ipynb<br>\n",
    " https://github.com/jiaying777/DATA-STRUCTURES-AND-ALGORITHMS/blob/master/HW3/binary_search_tree_05113009.py<br>\n",
    " http://www.csie.ntnu.edu.tw/~u91029/Order.html<br>\n",
    " http://alrightchiu.github.io/SecondRound/binary-search-tree-searchsou-xun-zi-liao-insertxin-zeng-zi-liao.html#insert<br>\n",
    " \n",
    " "
   ]
  },
  {
   "cell_type": "markdown",
   "metadata": {},
   "source": [
    " "
   ]
  }
 ],
 "metadata": {
  "kernelspec": {
   "display_name": "Python 3",
   "language": "python",
   "name": "python3"
  },
  "language_info": {
   "codemirror_mode": {
    "name": "ipython",
    "version": 3
   },
   "file_extension": ".py",
   "mimetype": "text/x-python",
   "name": "python",
   "nbconvert_exporter": "python",
   "pygments_lexer": "ipython3",
   "version": "3.7.3"
  }
 },
 "nbformat": 4,
 "nbformat_minor": 2
}
