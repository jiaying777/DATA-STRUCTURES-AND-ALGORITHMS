{
 "cells": [
  {
   "cell_type": "markdown",
   "metadata": {},
   "source": [
    "## 05113009 哲學四 吳家瑩"
   ]
  },
  {
   "cell_type": "markdown",
   "metadata": {},
   "source": [
    "Quick Sort 快速排序法，先決定取一個固定的位子為pivot，再依序將其餘的數值與pivot比大小，將比pivot小的都丟掉走邊，比pivot大的都丟到右邊。\n",
    "再來將比pivot小的那些數值再比一次大小，並一樣取第一個為pivot，比pivot大的也用同樣的方式處理，直到不能再處理，亦即所有數值都依照大小都排好了。"
   ]
  },
  {
   "cell_type": "code",
   "execution_count": 19,
   "metadata": {},
   "outputs": [],
   "source": [
    "def quickSort(list):\n",
    "    quickSortHelper(list , 0 , len(list)-1)"
   ]
  },
  {
   "cell_type": "markdown",
   "metadata": {},
   "source": [
    "從quickSort裡面呼叫quickSortHelper\n"
   ]
  },
  {
   "cell_type": "code",
   "execution_count": 20,
   "metadata": {},
   "outputs": [],
   "source": [
    "def quickSortHelper(list,first,last):\n",
    "    if first < last:\n",
    "        splitpoint = partition(list , first , last)\n",
    "        quickSortHelper(list , first , splitpoint-1) \n",
    "        quickSortHelper(list , splitpoint+1 , last)"
   ]
  },
  {
   "cell_type": "markdown",
   "metadata": {},
   "source": [
    "首先，呼叫partition進行排列，將大於pivot值的分一堆，小於的分一堆，再將兩堆分別進行排序，所以我們需要設一個條件來讓它不再執行，當分堆進行分組裡的只有一個值的時候就不再進行排序，last = len(list)-1 所以last為最後一個值的index，而當最後一個值的index非大於0，那就代表只剩下一個數值，因此不需要再進行排序。"
   ]
  },
  {
   "cell_type": "code",
   "execution_count": 21,
   "metadata": {},
   "outputs": [],
   "source": [
    "def partition(list , first , last):\n",
    "    pivot = list[first]\n",
    "    left = first+1\n",
    "    right = last\n",
    "    done = False\n",
    "    \n",
    "    while  done == False :\n",
    "        while left <= right and list[left] <= pivot:\n",
    "            left = left + 1\n",
    "        \n",
    "        while list[right] >= pivot and right >= left:\n",
    "            right = right -1\n",
    "            \n",
    "        if right < left:\n",
    "            done = True\n",
    "        else:\n",
    "            temp = list[left]     #交換位置\n",
    "            list[left] = list[right]\n",
    "            list[right] = temp\n",
    "    \n",
    "    temp = list[first]\n",
    "    list[first] = list[right]\n",
    "    list[right] = temp\n",
    "    \n",
    "    return right\n"
   ]
  },
  {
   "cell_type": "markdown",
   "metadata": {},
   "source": [
    "先將數列的第一個數設為pivot，left設為1，right設為最後一個index，即 len(list)-1，接著從left這個位子的值開始與pivot比較大小，若是較小則left+1，就是比較下一個位子的值，直到找到一個比pivot大的值或left大於right，則停止迴圈。<br/> 接著進入第二層的第二個while迴圈，從最後面開始比較大小，若是right這個位子的值大於pivot，則right-1，直到找到比pivot小的或是right小於left則停止迴圈。\n",
    "\n",
    "若是執行到right小於left代表我們已經分好堆了，則跳出迴圈將pivot與最後right的值互換。<br/>\n",
    "若是right沒有小於left，則我們將其值調換，因為在這裡指到的left會是大於pivot的，而right會小於pivot，所以將其對調以便分堆。"
   ]
  },
  {
   "cell_type": "code",
   "execution_count": 22,
   "metadata": {},
   "outputs": [
    {
     "name": "stdout",
     "output_type": "stream",
     "text": [
      "[17, 20, 26, 31, 44, 54, 55, 77, 93]\n"
     ]
    }
   ],
   "source": [
    "list = [54,26,93,17,77,31,44,55,20]\n",
    "quickSort(list)\n",
    "print(list)"
   ]
  },
  {
   "cell_type": "markdown",
   "metadata": {},
   "source": [
    "['54',26,93,17,77,31,44,55,20] --> list[left]=93, list[right]=20 --> 交換位置變成['54',26,**20**,17,77,31,44,55,**93**] --> list[left]=77, list[right]=44 -->交換位置變成['54',26,20,17,**44**,31,**77**,55,93] --> list[left]=77, list[right]=31 -->  right < left --> pivot與list[right]交換值 --> [**31**,26,20,17,44,**'54'** ,77,55,93] <br/>  \n",
    "-->第一次排序完成，接著再將小於54的數列依照此法排序，大於54的數列也是如此，最後就會得出依照大小排序好的  [17, 20, 26, 31, 44, 54, 55, 77, 93]"
   ]
  },
  {
   "cell_type": "markdown",
   "metadata": {},
   "source": [
    "Quick Sort的時間複雜度：\n",
    "\n",
    "Best Case：Ο(n log n)\n",
    "\n",
    "Worst Case：Ο(n^2)　\n",
    "\n",
    "Average Case：Ο(n log n)"
   ]
  },
  {
   "cell_type": "markdown",
   "metadata": {},
   "source": [
    "<br/>"
   ]
  },
  {
   "cell_type": "markdown",
   "metadata": {},
   "source": [
    "### 另解 "
   ]
  },
  {
   "cell_type": "code",
   "execution_count": 23,
   "metadata": {},
   "outputs": [],
   "source": [
    "def quicksort(list):\n",
    "    if len(list) <= 1: #若是list只有一個值，則不須比較大小直接回傳\n",
    "        return list\n",
    "    \n",
    "    pivotlist= []\n",
    "    left = []\n",
    "    right = []\n",
    "\n",
    "    pivot = list[0] #固定設第一個位置為pivot\n",
    "    for i in list:\n",
    "        if i < pivot: \n",
    "            left.append(i)#較小的放一邊\n",
    "        if i > pivot: \n",
    "            right.append(i)#較大的放一邊\n",
    "        if i == pivot:\n",
    "            pivotlist.append(i)\n",
    "                \n",
    "    left = quicksort(left)\n",
    "    right = quicksort(right)\n",
    "    \n",
    "    return left + pivotlist + right"
   ]
  },
  {
   "cell_type": "markdown",
   "metadata": {},
   "source": [
    "此法與上一個發法觀念是相同的，最大的區別在於此法是用另外的存取空間，將數值分堆排序後再合併，而非上一個方法直接在原來的數列中進行排序。<br/>\n",
    "參考：http://jialin128.pixnet.net/blog/post/142927691-%5B-資料結構-%5D-快速排序法（quick-sort）in-python"
   ]
  },
  {
   "cell_type": "code",
   "execution_count": 24,
   "metadata": {},
   "outputs": [
    {
     "data": {
      "text/plain": [
       "[17, 20, 26, 31, 44, 54, 55, 77, 93]"
      ]
     },
     "execution_count": 24,
     "metadata": {},
     "output_type": "execute_result"
    }
   ],
   "source": [
    "list = [54,26,93,17,77,31,44,55,20]\n",
    "quicksort(list)"
   ]
  },
  {
   "cell_type": "markdown",
   "metadata": {},
   "source": [
    "## 過程\n",
    "['54',26,93,17,77,31,44,55,20] --> small=[26,17,31,44,20] , big=[93,77,55] , pivotlist=[54] \n",
    "\n",
    ">['26',17,31,44,20] --> small=[17,20] , big=[31,44] , pivotlist=[26] --> return small + pivotlist + big --> [17,20,26,31,44] \n",
    "\n",
    ">['93',77,55] --> small=[77,55] , big=[] , pivotlist=[93] <br/>\n",
    ">>['77',55] --> small=[55] , big=[] , pivotlist=[77] --> [55,77]\n",
    ">>>[55,77,93]\n",
    "\n",
    "return small + pivotlist + big --> [17, 20, 26, 31, 44, 54, 55, 77, 93]\n",
    "\n",
    "\n"
   ]
  }
 ],
 "metadata": {
  "kernelspec": {
   "display_name": "Python 3",
   "language": "python",
   "name": "python3"
  },
  "language_info": {
   "codemirror_mode": {
    "name": "ipython",
    "version": 3
   },
   "file_extension": ".py",
   "mimetype": "text/x-python",
   "name": "python",
   "nbconvert_exporter": "python",
   "pygments_lexer": "ipython3",
   "version": "3.7.3"
  }
 },
 "nbformat": 4,
 "nbformat_minor": 2
}
